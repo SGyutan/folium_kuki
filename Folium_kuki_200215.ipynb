{
 "cells": [
  {
   "cell_type": "markdown",
   "metadata": {},
   "source": [
    "# 小学校の在籍人数を地図上にマッピングする（Folium、GeoPandas利用）\n",
    "\n",
    "## はじめに\n",
    "子どもの数が減ってきて、学校の統廃合が現実に議論されるようになってきました。\n",
    "また、公共施設の在り方（取り壊す、残す）についても議論が及んできています。\n",
    "そこで、各校区の在籍人数をマッピングをしたいと思い、試行錯誤して何とか表示できた過程の記録として残します。\n",
    "\n",
    "## 行いたいこと\n",
    "（1）学校の位置を地図上に示す\n",
    "→経度緯度と学校名のリストがあればよい\n",
    "\n",
    "（2）学校の校区を示す\n",
    "→ポリゴン操作が必要\n",
    "\n",
    "（3）各学校の在籍人数を示す\n",
    "→階層プロットが必要\n",
    "\n",
    "なお対象地域は、埼玉県久喜市とします。\n",
    "\n",
    "### 環境\n",
    "Win10\n",
    "Anaconda\n",
    "python3.7\n",
    "モジュール\n",
    "Folium、geopandas\n",
    "\n",
    "## GISデータを取り扱う上での最低限のイメージ\n",
    "\n",
    "\n",
    "\n",
    "### GEOデータマッピングで必要な知識\n",
    "[ジオメトリタイプ一覧をながめる](https://qiita.com/boiledorange73/items/6d1200b69b5d5c88bcd0)\n",
    "マッピングの基本種類\n",
    "単一\n",
    "POINT\n",
    "    単一の点。\n",
    "LINESTRING\n",
    "    単一の折れ線。\n",
    "POLYGON\n",
    "    単一のポリゴン。リングは複数あっても良い。\n",
    "POLYHEDRALSURFACE\n",
    "    多面体サーフェス。\n",
    "マルチ\n",
    "MULTIPOINT\n",
    "    複数の点からなるジオメトリ\n",
    "MULTILINESTRING\n",
    "    複数の折れ線からなるジオメトリ\n",
    "MULTIPOLYGON\n",
    "    複数のポリゴンからなるジオメトリ\n",
    "\n",
    "\n",
    "### データをマッピングする方法（ソフト）\n",
    "・QGIS（GISソフト）\n",
    "・Folium（Python、OpenStreetMap）\n",
    "（Folium は javascript ライブラリの leafletを、Python で使えるようにしたモジュール。）\n",
    "など\n",
    "[GISエンジンおよびサービスのまとめ](https://www.gis-py.com/entry/2018/10/16/170338)\n",
    "に詳しく書かれている\n",
    "\n",
    "### データの入手\n",
    "\n",
    "#### ベースになる地図（日本）\n",
    "Open Street Map というオープンライセンスのソフト（QGIS3,Foliumではデフォルトで使えます。）\n",
    "\n",
    "[基盤地図情報サイト国土地理院](https://www.gsi.go.jp/kiban/)\n",
    "必要な地図をダウンロードする。\n",
    "\n",
    "#### 境界データ\n",
    "国土交通省が提供している[国土数値情報 ダウンロードサービス](http://nlftp.mlit.go.jp/ksj/)からダウンロード\n",
    "\n",
    "#### ファイル形式\n",
    "GeoJSON形式\n",
    "Shape形式\n",
    "CSV形式（データが入っているもの）\n",
    "\n",
    "\n",
    "### データの前処理\n",
    "\n",
    "#### データの整形ソフト・モジュール\n",
    "Excel\n",
    "Pandas(python)\n",
    "GeoPandas(python)\n",
    "\n",
    "GeoPandasの使い方\n",
    "[geopandasの使い方をマスターしよう　～Shapeファイルの読込・作成、GeoDataFrameの扱い方まで～](https://www.gis-py.com/entry/geopandas-master)\n",
    "[geopandasを使ってShapeファイルを作成しよう！ ～Airbnbのデータを可視化してみよう～](https://www.gis-py.com/entry/geopandas_shape)\n",
    "\n",
    "geopandasやそれ以外のツールやファイル変換など\n",
    "[Pythonを用いたshapefileやgeojsonの読込および描画](https://qiita.com/HidKamiya/items/5e7240f8f66c9af8b10e)\n",
    "\n",
    "### Foliumのドキュメント\n",
    "[Folium 0.10.1 documentation ](https://python-visualization.github.io/folium/index.html)\n",
    "\n",
    "#### 必要なモジュールのインストールはこちらを参照してください。\n",
    "anacondaに入っているモジュールの他に、\n",
    "folium、geopandasなど\n",
    "\n",
    "[folium（位置情報の可視化）の使い方メモ](https://qiita.com/hotoku/items/0d9ddbd24568c1a07f9f)\n",
    "[Folium: Python で地図可視化](https://takaishikawa42.hatenablog.com/entry/2019/01/11/234716)\n",
    "[【folium】Pythonで位置情報の可視化](https://www.st-hakky-blog.com/entry/2019/04/22/180619)\n",
    "\n",
    "### すごく参考になった記事\n",
    "\n",
    "[python folium で、都内の公園にまつわる情報を地図上に描画する](https://www.monotalk.xyz/blog/python-folium-%E3%81%A7%E9%83%BD%E5%86%85%E3%81%AE%E5%85%AC%E5%9C%92%E3%81%AB%E3%81%BE%E3%81%A4%E3%82%8F%E3%82%8B%E6%83%85%E5%A0%B1%E3%82%92%E5%9C%B0%E5%9B%B3%E4%B8%8A%E3%81%AB%E6%8F%8F%E7%94%BB%E3%81%99%E3%82%8B/)\n",
    "\n",
    "[python folium を使い、都道府県の夫婦年齢差をプロットする](https://www.monotalk.xyz/blog/python-folinum-%E3%82%92%E4%BD%BF%E3%81%84%E9%83%BD%E9%81%93%E5%BA%9C%E7%9C%8C%E3%81%AE%E5%A4%AB%E5%A9%A6%E5%B9%B4%E9%BD%A2%E5%B7%AE%E3%82%92%E3%83%97%E3%83%AD%E3%83%83%E3%83%88%E3%81%99%E3%82%8B/)\n",
    "\n",
    "###　Folium"
   ]
  },
  {
   "cell_type": "markdown",
   "metadata": {},
   "source": [
    "## (0) Foliumで地図を表示してみます。\n",
    "埼玉県久喜市を例にします。\n",
    "久喜市の市役所：大字下早見８５－３　\n",
    "緯度・経度 36.06205900,139.66683800　"
   ]
  },
  {
   "cell_type": "code",
   "execution_count": 1,
   "metadata": {},
   "outputs": [
    {
     "name": "stdout",
     "output_type": "stream",
     "text": [
      "folium version is 0.10.1\n"
     ]
    }
   ],
   "source": [
    "#必要なモジュールのインポート\n",
    "import json\n",
    "from pathlib import Path\n",
    "\n",
    "import folium\n",
    "from folium import plugins\n",
    "print( \"folium version is {}\".format(folium.__version__) )\n",
    "\n",
    "import geopandas as gpd\n",
    "import pandas as pd\n",
    "\n",
    "import matplotlib.pyplot as plt"
   ]
  },
  {
   "cell_type": "code",
   "execution_count": 2,
   "metadata": {},
   "outputs": [],
   "source": [
    "# ベースマップの作製\n",
    "map_center = [36.06205900,139.66683800] #久喜市に設定\n",
    "m_kuki = folium.Map(location=map_center, tiles='openstreetmap', zoom_start=13)\n",
    "m_kuki.save('kuki.html')"
   ]
  },
  {
   "cell_type": "markdown",
   "metadata": {},
   "source": [
    "[【珈琲たいむ】Pythonでコロプレス図を描く](https://akatak.hatenadiary.jp/entry/2018/08/26/093839)\n",
    "※コロプレス図 (choropleth map)日本語では「階級区分図」\n",
    "に記載されている内容\n",
    "\n",
    "locationで地図の中心を指定、\n",
    "zoom_startで縮尺のレベルを指定（デフォルト値は10）、\n",
    "tilesでベースマップの種類を指定します(デフォルトはopenstreetmap）。なお、コロプレス図が見やすいのはcartodbpositron。\n",
    "\n",
    "foliumにビルトインされているベースマップのうち、API_keyがなくても利用できるのは以下の8つ。\n",
    "openstreetmap,mapboxbright,cartodbdark_matter,cartodbpositron,mapboxcontrolroom,stamenterrain,stamentoner,stamenwatercolor"
   ]
  },
  {
   "cell_type": "markdown",
   "metadata": {},
   "source": [
    "## （1）小学校の位置をプロット"
   ]
  },
  {
   "cell_type": "markdown",
   "metadata": {},
   "source": [
    "[Open Data Saitama](https://opendata.pref.saitama.lg.jp)\n",
    "にて検索して\n",
    "組織 久喜市 【久喜市】公共施設情報 【H30】公共施設情報 のCSVファイルを取得します。\n",
    "\n",
    "https://opendata.pref.saitama.lg.jp/data/dataset/0703b822-dee1-4cf5-943b-7cbc837108ba/resource/f200c959-b425-4d1f-81cb-75c1780dd2fa/download/inet-file01.inet-kuki.localpublic01010500.votiro02011001h30sisetu-kuki.csv\n",
    "\n",
    "このデータには、久喜市の公共施設の住所、名称、経度緯度などの情報が記載されています。\n",
    "\n",
    "※ダウンロードしたファイル名が長いので、「kukikokyoshisetsu.csv」に変更します。\n"
   ]
  },
  {
   "cell_type": "code",
   "execution_count": 3,
   "metadata": {},
   "outputs": [],
   "source": [
    "# 日本語CSVファイルの読み込みのために engine = \"python\"としています。\n",
    "df_kuki = pd.read_csv(\"kukikokyoshisetsu.csv\", engine = \"python\")"
   ]
  },
  {
   "cell_type": "code",
   "execution_count": 4,
   "metadata": {},
   "outputs": [
    {
     "data": {
      "text/html": [
       "<div>\n",
       "<style scoped>\n",
       "    .dataframe tbody tr th:only-of-type {\n",
       "        vertical-align: middle;\n",
       "    }\n",
       "\n",
       "    .dataframe tbody tr th {\n",
       "        vertical-align: top;\n",
       "    }\n",
       "\n",
       "    .dataframe thead th {\n",
       "        text-align: right;\n",
       "    }\n",
       "</style>\n",
       "<table border=\"1\" class=\"dataframe\">\n",
       "  <thead>\n",
       "    <tr style=\"text-align: right;\">\n",
       "      <th></th>\n",
       "      <th>識別情報</th>\n",
       "      <th>団体コード</th>\n",
       "      <th>団体名</th>\n",
       "      <th>種別</th>\n",
       "      <th>名称</th>\n",
       "      <th>概要</th>\n",
       "      <th>通称</th>\n",
       "      <th>住所_表記</th>\n",
       "      <th>施設_緯度</th>\n",
       "      <th>施設_経度</th>\n",
       "      <th>施設_電話番号</th>\n",
       "      <th>ホームページ</th>\n",
       "      <th>開始時間</th>\n",
       "      <th>終了時間</th>\n",
       "      <th>日時備考</th>\n",
       "      <th>自由記述欄</th>\n",
       "    </tr>\n",
       "  </thead>\n",
       "  <tbody>\n",
       "    <tr>\n",
       "      <th>0</th>\n",
       "      <td>1</td>\n",
       "      <td>112321</td>\n",
       "      <td>久喜市</td>\n",
       "      <td>庁舎等</td>\n",
       "      <td>久喜市役所（本庁舎）</td>\n",
       "      <td>NaN</td>\n",
       "      <td>NaN</td>\n",
       "      <td>下早見85-3</td>\n",
       "      <td>36.062145</td>\n",
       "      <td>139.666817</td>\n",
       "      <td>22-1111</td>\n",
       "      <td>NaN</td>\n",
       "      <td>NaN</td>\n",
       "      <td>NaN</td>\n",
       "      <td>NaN</td>\n",
       "      <td>NaN</td>\n",
       "    </tr>\n",
       "    <tr>\n",
       "      <th>1</th>\n",
       "      <td>2</td>\n",
       "      <td>112321</td>\n",
       "      <td>久喜市</td>\n",
       "      <td>庁舎等</td>\n",
       "      <td>久喜市役所（第二庁舎）</td>\n",
       "      <td>NaN</td>\n",
       "      <td>NaN</td>\n",
       "      <td>北青柳1404-7</td>\n",
       "      <td>36.052625</td>\n",
       "      <td>139.659255</td>\n",
       "      <td>22-1111</td>\n",
       "      <td>NaN</td>\n",
       "      <td>NaN</td>\n",
       "      <td>NaN</td>\n",
       "      <td>NaN</td>\n",
       "      <td>NaN</td>\n",
       "    </tr>\n",
       "    <tr>\n",
       "      <th>2</th>\n",
       "      <td>3</td>\n",
       "      <td>112321</td>\n",
       "      <td>久喜市</td>\n",
       "      <td>庁舎等</td>\n",
       "      <td>菖蒲総合支所</td>\n",
       "      <td>NaN</td>\n",
       "      <td>NaN</td>\n",
       "      <td>菖蒲町新堀38</td>\n",
       "      <td>36.059249</td>\n",
       "      <td>139.601499</td>\n",
       "      <td>85-1111</td>\n",
       "      <td>NaN</td>\n",
       "      <td>NaN</td>\n",
       "      <td>NaN</td>\n",
       "      <td>NaN</td>\n",
       "      <td>NaN</td>\n",
       "    </tr>\n",
       "    <tr>\n",
       "      <th>3</th>\n",
       "      <td>4</td>\n",
       "      <td>112321</td>\n",
       "      <td>久喜市</td>\n",
       "      <td>庁舎等</td>\n",
       "      <td>栗橋総合支所</td>\n",
       "      <td>NaN</td>\n",
       "      <td>NaN</td>\n",
       "      <td>間鎌251-1</td>\n",
       "      <td>36.126453</td>\n",
       "      <td>139.696062</td>\n",
       "      <td>53-1111</td>\n",
       "      <td>NaN</td>\n",
       "      <td>NaN</td>\n",
       "      <td>NaN</td>\n",
       "      <td>NaN</td>\n",
       "      <td>NaN</td>\n",
       "    </tr>\n",
       "    <tr>\n",
       "      <th>4</th>\n",
       "      <td>5</td>\n",
       "      <td>112321</td>\n",
       "      <td>久喜市</td>\n",
       "      <td>庁舎等</td>\n",
       "      <td>鷲宮総合支所</td>\n",
       "      <td>NaN</td>\n",
       "      <td>NaN</td>\n",
       "      <td>鷲宮6-1-1</td>\n",
       "      <td>36.099935</td>\n",
       "      <td>139.667466</td>\n",
       "      <td>58-1111</td>\n",
       "      <td>NaN</td>\n",
       "      <td>NaN</td>\n",
       "      <td>NaN</td>\n",
       "      <td>NaN</td>\n",
       "      <td>NaN</td>\n",
       "    </tr>\n",
       "  </tbody>\n",
       "</table>\n",
       "</div>"
      ],
      "text/plain": [
       "   識別情報   団体コード  団体名   種別           名称  概要  通称      住所_表記      施設_緯度  \\\n",
       "0     1  112321  久喜市  庁舎等   久喜市役所（本庁舎） NaN NaN    下早見85-3  36.062145   \n",
       "1     2  112321  久喜市  庁舎等  久喜市役所（第二庁舎） NaN NaN  北青柳1404-7  36.052625   \n",
       "2     3  112321  久喜市  庁舎等       菖蒲総合支所 NaN NaN    菖蒲町新堀38  36.059249   \n",
       "3     4  112321  久喜市  庁舎等       栗橋総合支所 NaN NaN   間鎌251-1   36.126453   \n",
       "4     5  112321  久喜市  庁舎等       鷲宮総合支所 NaN NaN    鷲宮6-1-1  36.099935   \n",
       "\n",
       "        施設_経度  施設_電話番号  ホームページ  開始時間  終了時間  日時備考  自由記述欄  \n",
       "0  139.666817  22-1111     NaN   NaN   NaN   NaN    NaN  \n",
       "1  139.659255  22-1111     NaN   NaN   NaN   NaN    NaN  \n",
       "2  139.601499  85-1111     NaN   NaN   NaN   NaN    NaN  \n",
       "3  139.696062  53-1111     NaN   NaN   NaN   NaN    NaN  \n",
       "4  139.667466  58-1111     NaN   NaN   NaN   NaN    NaN  "
      ]
     },
     "execution_count": 4,
     "metadata": {},
     "output_type": "execute_result"
    }
   ],
   "source": [
    "df_kuki.head()"
   ]
  },
  {
   "cell_type": "code",
   "execution_count": 5,
   "metadata": {
    "scrolled": false
   },
   "outputs": [],
   "source": [
    "#元のデータから学校関係を抽出します。\n",
    "df_school=df_kuki[df_kuki[\"種別\"]==\"小中学校・給食センター\"]"
   ]
  },
  {
   "cell_type": "code",
   "execution_count": null,
   "metadata": {
    "scrolled": true
   },
   "outputs": [],
   "source": [
    "df_school"
   ]
  },
  {
   "cell_type": "code",
   "execution_count": 6,
   "metadata": {
    "scrolled": true
   },
   "outputs": [],
   "source": [
    "# 小学校だけ抽出\n",
    "df_esh=df_school.loc[117:139]"
   ]
  },
  {
   "cell_type": "code",
   "execution_count": null,
   "metadata": {},
   "outputs": [],
   "source": [
    "df_esh.head()"
   ]
  },
  {
   "cell_type": "code",
   "execution_count": 7,
   "metadata": {},
   "outputs": [
    {
     "name": "stdout",
     "output_type": "stream",
     "text": [
      "<class 'pandas.core.frame.DataFrame'>\n",
      "Int64Index: 23 entries, 117 to 139\n",
      "Data columns (total 16 columns):\n",
      " #   Column   Non-Null Count  Dtype  \n",
      "---  ------   --------------  -----  \n",
      " 0   識別情報     23 non-null     int64  \n",
      " 1   団体コード    23 non-null     int64  \n",
      " 2   団体名      23 non-null     object \n",
      " 3   種別       23 non-null     object \n",
      " 4   名称       23 non-null     object \n",
      " 5   概要       0 non-null      float64\n",
      " 6   通称       0 non-null      float64\n",
      " 7   住所_表記    23 non-null     object \n",
      " 8   施設_緯度    23 non-null     float64\n",
      " 9   施設_経度    23 non-null     float64\n",
      " 10  施設_電話番号  23 non-null     object \n",
      " 11  ホームページ   0 non-null      float64\n",
      " 12  開始時間     0 non-null      float64\n",
      " 13  終了時間     0 non-null      float64\n",
      " 14  日時備考     0 non-null      float64\n",
      " 15  自由記述欄    0 non-null      float64\n",
      "dtypes: float64(9), int64(2), object(5)\n",
      "memory usage: 3.1+ KB\n"
     ]
    }
   ],
   "source": [
    "df_esh.info()\n",
    "#久喜市に小学校は23校あります。"
   ]
  },
  {
   "cell_type": "code",
   "execution_count": 8,
   "metadata": {},
   "outputs": [],
   "source": [
    "#地図に位置をマッピングします。\n",
    "map_center = [36.06205900,139.66683800] #久喜市に設定\n",
    "m2_kuki = folium.Map(location=map_center, tiles='openstreetmap', zoom_start=13)\n",
    "#Forで回します。\n",
    "for i, dt in df_esh.iterrows():\n",
    "    folium.Marker(location=[dt['施設_緯度'],dt['施設_経度']], popup='{},{}'.format(dt['名称'],dt['施設_電話番号'])).add_to(m2_kuki)\n",
    "#     print(dt['施設_緯度'], dt['施設_経度'], dt['名称'])\n",
    "m2_kuki.save('kuki_e_school.html')"
   ]
  },
  {
   "cell_type": "markdown",
   "metadata": {},
   "source": [
    "## （2）久喜市の校区をプロット"
   ]
  },
  {
   "cell_type": "markdown",
   "metadata": {},
   "source": [
    "#### データの入手先\n",
    "[国土数値情報　小学校区データ](http://nlftp.mlit.go.jp/ksj/gml/datalist/KsjTmplt-A27-v2_1.html)\n",
    "埼玉県を指定\n",
    "\n",
    "データ形式：\n",
    "①「GML形式＝高度な内容を表現できる世界標準規格。普及はこれから\n",
    " \n",
    "②「シェープファイル形式」＝現在の殆どのＧＩＳソフトで読み書きでき普及している規格\n",
    "\n",
    "このデータは上記の形式で提供されています。\n",
    "データの属性\n",
    "\n",
    "範囲、通学区域の範囲面型（GM_Surface）\n",
    "\n",
    "市区町村コード(A27_005)：小学校が属する行政コード、コードリスト「行政コード」　\n",
    "設置主体(A27_006)：小学校の設置主体、文字列型(CharacterString)　\n",
    "名称(A27_007)：小学校の名称、文字列型(CharacterString)　\n",
    "所在地(A27_008)：小学校の設置所在地、文字列型(CharacterString)　"
   ]
  },
  {
   "cell_type": "code",
   "execution_count": 9,
   "metadata": {},
   "outputs": [],
   "source": [
    "#GeopandasでShapeファイルを読み込む\n",
    "# ファイル読込（encoding='SHIFT-JIS'とすることで日本語データにも対応）\n",
    "shdf = gpd.read_file('./A27-16_11_GML/shape/A27-16_11.shp',encoding='SHIFT-JIS')"
   ]
  },
  {
   "cell_type": "code",
   "execution_count": null,
   "metadata": {},
   "outputs": [],
   "source": [
    "shdf"
   ]
  },
  {
   "cell_type": "code",
   "execution_count": 10,
   "metadata": {
    "scrolled": true
   },
   "outputs": [],
   "source": [
    "#久喜市だけ取り出します。\n",
    "#A27_005には市町村コード番号が入っているので、この値でセレクトしてもよい。\n",
    "kuki_esh=shdf[shdf['A27_006']=='久喜市立']"
   ]
  },
  {
   "cell_type": "code",
   "execution_count": 11,
   "metadata": {},
   "outputs": [
    {
     "name": "stderr",
     "output_type": "stream",
     "text": [
      "C:\\Users\\MtM\\Anaconda3\\envs\\geo\\lib\\site-packages\\ipykernel\\__main__.py:3: SettingWithCopyWarning: \n",
      "A value is trying to be set on a copy of a slice from a DataFrame.\n",
      "Try using .loc[row_indexer,col_indexer] = value instead\n",
      "\n",
      "See the caveats in the documentation: https://pandas.pydata.org/pandas-docs/stable/user_guide/indexing.html#returning-a-view-versus-a-copy\n",
      "  app.launch_new_instance()\n"
     ]
    }
   ],
   "source": [
    "#この後の処理のために学校を識別するためにidをつけます。ここではid2としています。\n",
    "#　このままだと一番左のインデックス番号がID番号になります。\n",
    "kuki_esh['id2']=[x for x in range(0,23)]"
   ]
  },
  {
   "cell_type": "code",
   "execution_count": null,
   "metadata": {},
   "outputs": [],
   "source": [
    "#　id2がつきました。\n",
    "kuki_esh"
   ]
  },
  {
   "cell_type": "code",
   "execution_count": 12,
   "metadata": {},
   "outputs": [
    {
     "name": "stdout",
     "output_type": "stream",
     "text": [
      "<class 'geopandas.geodataframe.GeoDataFrame'>\n",
      "Int64Index: 23 entries, 412 to 434\n",
      "Data columns (total 6 columns):\n",
      " #   Column    Non-Null Count  Dtype   \n",
      "---  ------    --------------  -----   \n",
      " 0   A27_005   23 non-null     object  \n",
      " 1   A27_006   23 non-null     object  \n",
      " 2   A27_007   23 non-null     object  \n",
      " 3   A27_008   23 non-null     object  \n",
      " 4   geometry  23 non-null     geometry\n",
      " 5   id2       23 non-null     int64   \n",
      "dtypes: geometry(1), int64(1), object(4)\n",
      "memory usage: 1.3+ KB\n"
     ]
    }
   ],
   "source": [
    "kuki_esh.info()\n",
    "#23校あります。"
   ]
  },
  {
   "cell_type": "code",
   "execution_count": 13,
   "metadata": {},
   "outputs": [
    {
     "name": "stderr",
     "output_type": "stream",
     "text": [
      "C:\\Users\\MtM\\Anaconda3\\envs\\geo\\lib\\site-packages\\ipykernel\\__main__.py:2: SettingWithCopyWarning: \n",
      "A value is trying to be set on a copy of a slice from a DataFrame.\n",
      "Try using .loc[row_indexer,col_indexer] = value instead\n",
      "\n",
      "See the caveats in the documentation: https://pandas.pydata.org/pandas-docs/stable/user_guide/indexing.html#returning-a-view-versus-a-copy\n",
      "  from ipykernel import kernelapp as app\n"
     ]
    }
   ],
   "source": [
    "# id2は数値ではなく文字列にしておく必要があるため型変換をしています。\n",
    "kuki_esh['id2'] =  kuki_esh['id2'].astype('str')"
   ]
  },
  {
   "cell_type": "code",
   "execution_count": 14,
   "metadata": {},
   "outputs": [],
   "source": [
    "map_center = [36.06205900,139.66683800] #久喜市に設定\n",
    "m_kuki_sh = folium.Map(location=map_center, tiles='cartodbpositron', zoom_start=13)\n",
    "folium.Choropleth(geo_data=kuki_esh.to_json()).add_to(m_kuki_sh)\n",
    "for i, dt in df_esh.iterrows():\n",
    "    folium.Marker(location=[dt['施設_緯度'],dt['施設_経度']], popup='{}'.format(dt['名称'])).add_to(m_kuki_sh)\n",
    "\n",
    "folium.LayerControl().add_to(m_kuki_sh)\n",
    "\n",
    "m_kuki_sh.save('kuki_e_sh_koku.html')"
   ]
  },
  {
   "cell_type": "markdown",
   "metadata": {},
   "source": [
    "geo_data=kuki_esh.to_json() dfのデータをJSON形式にして渡します。\n",
    "※この後詳しく解説"
   ]
  },
  {
   "cell_type": "markdown",
   "metadata": {},
   "source": [
    "## （3）各小学校の在籍者をプロット"
   ]
  },
  {
   "cell_type": "markdown",
   "metadata": {},
   "source": [
    "各小学校の在籍者のデータを取ってきます。\n",
    "[教育要覧（久喜市の教育）](https://www.city.kuki.lg.jp/kosodate/kyoikugyosei/kyoikuiinkai/gaiyo/kyoikuyoran.html)\n",
    "このHPにある「令和元年度久喜市の教育」\n",
    "分割版2（学校教育、13ページから38ページまで）（PDF：30,337KB）\n",
    "をダウンロードします。\n",
    "この19ページ目に年度による生徒数がまとめられています。\n",
    "これを数値化します。私がやったのは、PDFをWebサービスでWordファイルにして、そのあといろいろやって、excelのCSVファイルにしました。\n",
    "前処理したファイルを「児童生徒数推移.csv」としてGithubに置いておきます。\n",
    "なお先ほど、境界データで付加したIDと同じ番号を同じ小学校に付加しています。"
   ]
  },
  {
   "cell_type": "code",
   "execution_count": 15,
   "metadata": {},
   "outputs": [],
   "source": [
    "df_num=pd.read_csv('./児童生徒数推移.csv', engine = \"python\")"
   ]
  },
  {
   "cell_type": "code",
   "execution_count": 16,
   "metadata": {},
   "outputs": [],
   "source": [
    "#　この後にgeojsonのデータと結びつけます。\n",
    "#　geojsonの値は、基本文字列なので、その文字列と結びつけるためにIDをIntからStringに変換しています。\n",
    "df_num['id'] = df_num['id'].astype('str')"
   ]
  },
  {
   "cell_type": "code",
   "execution_count": 17,
   "metadata": {},
   "outputs": [
    {
     "name": "stdout",
     "output_type": "stream",
     "text": [
      "<class 'pandas.core.frame.DataFrame'>\n",
      "RangeIndex: 23 entries, 0 to 22\n",
      "Data columns (total 12 columns):\n",
      " #   Column   Non-Null Count  Dtype \n",
      "---  ------   --------------  ----- \n",
      " 0   school   23 non-null     object\n",
      " 1   id       23 non-null     object\n",
      " 2   H22      23 non-null     int64 \n",
      " 3   H23      23 non-null     int64 \n",
      " 4   H24      23 non-null     int64 \n",
      " 5   H25      23 non-null     int64 \n",
      " 6   H26      23 non-null     int64 \n",
      " 7   H27      23 non-null     int64 \n",
      " 8   H28      23 non-null     int64 \n",
      " 9   H29      23 non-null     int64 \n",
      " 10  H30      23 non-null     int64 \n",
      " 11  R01      23 non-null     int64 \n",
      "dtypes: int64(10), object(2)\n",
      "memory usage: 2.3+ KB\n"
     ]
    }
   ],
   "source": [
    "df_num.info()"
   ]
  },
  {
   "cell_type": "code",
   "execution_count": null,
   "metadata": {},
   "outputs": [],
   "source": [
    "df_num"
   ]
  },
  {
   "cell_type": "code",
   "execution_count": null,
   "metadata": {
    "scrolled": true
   },
   "outputs": [],
   "source": [
    "# 校区の境界データをJSON化するとこのようなデータになります。\n",
    "#　新たに付加した「id2」は、\"feature properties id2\"と各学校に入っています。\n",
    "#　geopandasで読み込んだデータは\".to_json()\"で簡単にJSONファイルに変換することができます。\n",
    "kuki_esh.to_json()"
   ]
  },
  {
   "cell_type": "code",
   "execution_count": 18,
   "metadata": {},
   "outputs": [
    {
     "name": "stderr",
     "output_type": "stream",
     "text": [
      "C:\\Users\\MtM\\Anaconda3\\envs\\geo\\lib\\site-packages\\folium\\folium.py:415: FutureWarning: The choropleth  method has been deprecated. Instead use the new Choropleth class, which has the same arguments. See the example notebook 'GeoJSON_and_choropleth' for how to do this.\n",
      "  FutureWarning\n"
     ]
    }
   ],
   "source": [
    "#　最新の令和元年度のマップを作ってみます。\n",
    "map_center = [36.06205900,139.66683800] #久喜市に設定\n",
    "m_kuki_sh = folium.Map(location=map_center, tiles='cartodbpositron', zoom_start=13)\n",
    "folium.Choropleth(geo_data=kuki_esh.to_json()).add_to(m_kuki_sh)\n",
    "m_kuki_sh.choropleth(geo_data=kuki_esh.to_json(),data=df_num,\n",
    "                     columns=['id', 'R01'],\n",
    "                     key_on='feature.properties.id2',\n",
    "                     fill_color='OrRd',\n",
    "                     threshold_scale=[0, 100, 200, 300, 400, 500, 600, 700, 800, 900],\n",
    "                     fill_opacity=0.7,\n",
    "                     line_opacity=0.2,\n",
    "                     legend_name='生徒数'\n",
    "                    )\n",
    "# folium.LayerControl().add_to(m_kuki_sh)\n",
    "for i, dt in df_esh.iterrows():\n",
    "    folium.Marker(location=[dt['施設_緯度'],dt['施設_経度']], popup='{}'.format(dt['名称'])).add_to(m_kuki_sh)\n",
    "# m_saitama\n",
    "m_kuki_sh.save('kuki_esh_r1.html')"
   ]
  },
  {
   "cell_type": "markdown",
   "metadata": {},
   "source": [
    "#### fill_color　を変更することで色を選べます。\n",
    "##### Colerのサンプル\n",
    "[color mapの一覧をheatmapで(160個くらい画像があるので注意)](https://pod.hatenablog.com/entry/2018/09/20/212527)\n",
    "\n",
    "#### key_on の設定について\n",
    "[python folium を使い、都道府県の夫婦年齢差をプロットする](https://www.monotalk.xyz/blog/python-folinum-%E3%82%92%E4%BD%BF%E3%81%84%E9%83%BD%E9%81%93%E5%BA%9C%E7%9C%8C%E3%81%AE%E5%A4%AB%E5%A9%A6%E5%B9%B4%E9%BD%A2%E5%B7%AE%E3%82%92%E3%83%97%E3%83%AD%E3%83%83%E3%83%88%E3%81%99%E3%82%8B/)\n",
    "引用\n",
    "Geojson 上に feature はキー値として存在しませんが、features は存在しており、且つ、配列です。\n",
    "key_onの指定がfeature.properties.id なので、features > 1要素 feature としての解釈は folium 側でうまいことやってくれています。\n",
    "\n",
    "今回 id としたいのは地域コードで、properties の下にぶらさがっており、on_key に feature.properties.id2 を指定しています。"
   ]
  },
  {
   "cell_type": "code",
   "execution_count": 19,
   "metadata": {},
   "outputs": [],
   "source": [
    "#　一番古いH22年度のマップを作ってみます。\n",
    "map_center = [36.06205900,139.66683800] #久喜市に設定\n",
    "m_kuki_sh = folium.Map(location=map_center, tiles='cartodbpositron', zoom_start=13)\n",
    "folium.Choropleth(geo_data=kuki_esh.to_json()).add_to(m_kuki_sh)\n",
    "m_kuki_sh.choropleth(geo_data=kuki_esh.to_json(),data=df_num,\n",
    "                     columns=['id', 'H22'],\n",
    "                     key_on='feature.properties.id2',\n",
    "                     fill_color='OrRd',\n",
    "                     threshold_scale=[0, 100, 200, 300, 400, 500, 600, 700, 800, 900],\n",
    "                     fill_opacity=0.7,\n",
    "                     line_opacity=0.2,\n",
    "                     legend_name='生徒数'\n",
    "                    )\n",
    "# folium.LayerControl().add_to(m_kuki_sh)\n",
    "for i, dt in df_esh.iterrows():\n",
    "    folium.Marker(location=[dt['施設_緯度'],dt['施設_経度']], popup='{}'.format(dt['名称'])).add_to(m_kuki_sh)\n",
    "# m_saitama\n",
    "m_kuki_sh.save('kuki_esh_H22.html')"
   ]
  }
 ],
 "metadata": {
  "kernelspec": {
   "display_name": "Environment (conda_geo)",
   "language": "python",
   "name": "conda_geo"
  },
  "language_info": {
   "codemirror_mode": {
    "name": "ipython",
    "version": 3
   },
   "file_extension": ".py",
   "mimetype": "text/x-python",
   "name": "python",
   "nbconvert_exporter": "python",
   "pygments_lexer": "ipython3",
   "version": "3.7.6"
  }
 },
 "nbformat": 4,
 "nbformat_minor": 4
}
